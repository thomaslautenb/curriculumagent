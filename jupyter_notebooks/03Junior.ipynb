{
 "cells": [
  {
   "cell_type": "markdown",
   "id": "f16f9a4c-aacc-4a1b-b784-890954bfae1e",
   "metadata": {},
   "source": [
    "# Example of the Junior Notebook\n",
    "\n",
    "In this Notebook, we present to ways to train the junior model. Either, with the simple Junior model or with an\n",
    "advanced model that can be obtained, if some hyper-parameter tuning was conducted"
   ]
  },
  {
   "cell_type": "code",
   "execution_count": 1,
   "id": "529dc95a-8550-48c3-b85c-e4e855532072",
   "metadata": {},
   "outputs": [],
   "source": [
    "import os\n",
    "import logging\n",
    "from pathlib import Path\n",
    "import pickle\n",
    "import json\n",
    "import grid2op\n",
    "import numpy as np\n",
    "from lightsim2grid import LightSimBackend\n",
    "from pathlib import Path\n",
    "import tensorflow as tf\n",
    "\n",
    "logging.basicConfig(level=logging.INFO)\n",
    "example_path = os.getcwd()"
   ]
  },
  {
   "cell_type": "markdown",
   "metadata": {
    "collapsed": false
   },
   "source": [
    "Again check the environment"
   ]
  },
  {
   "cell_type": "code",
   "execution_count": 2,
   "id": "c9d5a99a-538a-4105-af94-43d29f07e386",
   "metadata": {},
   "outputs": [
    {
     "name": "stderr",
     "output_type": "stream",
     "text": [
      "INFO:pandapower.convert_format:These dtypes could not be corrected: {'trafo': ['tap_min', 'tap_max']}\n"
     ]
    },
    {
     "name": "stdout",
     "output_type": "stream",
     "text": [
      "c:\\Users\\thoma\\MA\\curriculumagent\\jupyter_notebooks\\data\\training_data_track1\n"
     ]
    },
    {
     "name": "stderr",
     "output_type": "stream",
     "text": [
      "c:\\Users\\thoma\\anaconda3\\envs\\MA1\\lib\\site-packages\\lightsim2grid\\gridmodel\\_aux_add_trafo.py:67: UserWarning: There were some Nan in the pp_net.trafo[\"tap_step_degree\"], they have been replaced by 0\n",
      "  warnings.warn(\"There were some Nan in the pp_net.trafo[\\\"tap_step_degree\\\"], they have been replaced by 0\")\n",
      "c:\\Users\\thoma\\anaconda3\\envs\\MA1\\lib\\site-packages\\lightsim2grid\\gridmodel\\_aux_add_slack.py:114: UserWarning: We found either some slack coefficient to be < 0. or they were all 0.We set them all to 1.0 to avoid such issues\n",
      "  warnings.warn(\"We found either some slack coefficient to be < 0. or they were all 0.\"\n",
      "c:\\Users\\thoma\\anaconda3\\envs\\MA1\\lib\\site-packages\\grid2op\\Backend\\backend.py:1848: RuntimeWarning: divide by zero encountered in divide\n",
      "  p_s[sh_conn] *= (self._sh_vnkv[sh_conn] / sh_v[sh_conn]) ** 2\n",
      "c:\\Users\\thoma\\anaconda3\\envs\\MA1\\lib\\site-packages\\grid2op\\Backend\\backend.py:1848: RuntimeWarning: invalid value encountered in multiply\n",
      "  p_s[sh_conn] *= (self._sh_vnkv[sh_conn] / sh_v[sh_conn]) ** 2\n",
      "c:\\Users\\thoma\\anaconda3\\envs\\MA1\\lib\\site-packages\\grid2op\\Backend\\backend.py:1849: RuntimeWarning: divide by zero encountered in divide\n",
      "  q_s[sh_conn] *= (self._sh_vnkv[sh_conn] / sh_v[sh_conn]) ** 2\n",
      "c:\\Users\\thoma\\anaconda3\\envs\\MA1\\lib\\site-packages\\grid2op\\Backend\\backend.py:1849: RuntimeWarning: invalid value encountered in multiply\n",
      "  q_s[sh_conn] *= (self._sh_vnkv[sh_conn] / sh_v[sh_conn]) ** 2\n"
     ]
    }
   ],
   "source": [
    "backend = LightSimBackend()\n",
    "env_path = test_data_path = Path(example_path)/ \"data\" / \"training_data_track1\"\n",
    "print(env_path)\n",
    "env = grid2op.make(env_path, backend=backend)\n",
    "env.set_id(1)\n",
    "env.reset()\n",
    "env.chronics_handler.get_name()\n",
    "obs = env.get_obs()"
   ]
  },
  {
   "cell_type": "markdown",
   "metadata": {
    "collapsed": false
   },
   "source": [
    "## Simple Junior\n",
    "\n",
    "Let's begin with the simple junior for training"
   ]
  },
  {
   "cell_type": "code",
   "execution_count": 3,
   "id": "c2ba0ffc-3e1c-4593-8e04-0ab20cd28fe0",
   "metadata": {},
   "outputs": [],
   "source": [
    "from curriculumagent.junior.junior_student import train, validate"
   ]
  },
  {
   "cell_type": "code",
   "execution_count": 4,
   "id": "17ef40a7-6a16-4224-84d7-d42d75c28cbf",
   "metadata": {},
   "outputs": [
    {
     "name": "stderr",
     "output_type": "stream",
     "text": [
      "INFO:root:A total of 806 actions are assumed, based on the action_space_file input.\n",
      "c:\\Users\\thoma\\anaconda3\\envs\\MA1\\lib\\site-packages\\curriculumagent\\junior\\junior_student.py:230: UserWarning: The custom dictionary had not the correct keys. Revert to default model.\n",
      "  warnings.warn(\"The custom dictionary had not the correct keys. Revert to default model.\")\n",
      "INFO:root:<bound method Model.summary of <keras.engine.sequential.Sequential object at 0x00000221AC500280>>\n",
      "WARNING:root:2.12.1\n",
      "WARNING:root:2.12.0\n",
      "c:\\Users\\thoma\\anaconda3\\envs\\MA1\\lib\\site-packages\\keras\\initializers\\initializers.py:120: UserWarning: The initializer Orthogonal is unseeded and being called multiple times, which will return identical values each time (even if the initializer is unseeded). Please update your code to provide a seed to the initializer, or avoid using the same initalizer instance more than once.\n",
      "  warnings.warn(\n"
     ]
    },
    {
     "name": "stdout",
     "output_type": "stream",
     "text": [
      "1/1 [==============================] - 2s 2s/step - loss: 109.0836 - accuracy: 0.2500\n"
     ]
    },
    {
     "name": "stderr",
     "output_type": "stream",
     "text": [
      "WARNING:absl:Found untraced functions such as _update_step_xla, re_lu_layer_call_fn, re_lu_layer_call_and_return_conditional_losses while saving (showing 3 of 3). These functions will not be directly callable after loading.\n"
     ]
    },
    {
     "name": "stdout",
     "output_type": "stream",
     "text": [
      "INFO:tensorflow:Assets written to: c:\\Users\\thoma\\MA\\curriculumagent\\jupyter_notebooks\\data\\junior_model\\assets\n"
     ]
    },
    {
     "name": "stderr",
     "output_type": "stream",
     "text": [
      "INFO:tensorflow:Assets written to: c:\\Users\\thoma\\MA\\curriculumagent\\jupyter_notebooks\\data\\junior_model\\assets\n"
     ]
    },
    {
     "data": {
      "text/plain": [
       "<keras.callbacks.History at 0x221ac2cefd0>"
      ]
     },
     "execution_count": 4,
     "metadata": {},
     "output_type": "execute_result"
    }
   ],
   "source": [
    "test_data_path = Path(example_path) / \"data\"\n",
    "path1 = test_data_path / \"actionspace_nminus1.npy\"\n",
    "path2 = test_data_path / \"actionspace_tuples.npy\"\n",
    "\n",
    "action_set = [path1, path2]\n",
    "model_path = Path(example_path) / \"data\" / \"junior_model\"\n",
    "data_path = Path(example_path) / \"data\" / \"junior_experience\"\n",
    "\n",
    "train(run_name=\"example\",\n",
    "      dataset_path=data_path,\n",
    "      target_model_path=model_path,\n",
    "      action_space_file=action_set,\n",
    "      dataset_name='junior_dataset',\n",
    "      epochs=1, seed=42)"
   ]
  },
  {
   "cell_type": "code",
   "execution_count": 5,
   "id": "b2ee464a-e469-4abe-9157-8aeb71d0f126",
   "metadata": {},
   "outputs": [
    {
     "name": "stderr",
     "output_type": "stream",
     "text": [
      "INFO:root:A total of 806 are assumed, based on the action_space_file input.\n",
      "c:\\Users\\thoma\\anaconda3\\envs\\MA1\\lib\\site-packages\\curriculumagent\\junior\\junior_student.py:230: UserWarning: The custom dictionary had not the correct keys. Revert to default model.\n",
      "  warnings.warn(\"The custom dictionary had not the correct keys. Revert to default model.\")\n",
      "INFO:root:<bound method Model.summary of <keras.engine.sequential.Sequential object at 0x00000221B24F4310>>\n",
      "c:\\Users\\thoma\\anaconda3\\envs\\MA1\\lib\\site-packages\\keras\\initializers\\initializers.py:120: UserWarning: The initializer Orthogonal is unseeded and being called multiple times, which will return identical values each time (even if the initializer is unseeded). Please update your code to provide a seed to the initializer, or avoid using the same initalizer instance more than once.\n",
      "  warnings.warn(\n",
      "INFO:root:Imported model fromc:\\Users\\thoma\\MA\\curriculumagent\\jupyter_notebooks\\data\\junior_model\n"
     ]
    },
    {
     "name": "stdout",
     "output_type": "stream",
     "text": [
      "1/1 [==============================] - 0s 94ms/step\n"
     ]
    },
    {
     "name": "stderr",
     "output_type": "stream",
     "text": [
      "INFO:root:accuracy of top-1 is 40.0\n",
      "INFO:root:accuracy of top-2 is 40.0\n",
      "INFO:root:accuracy of top-3 is 40.0\n",
      "INFO:root:accuracy of top-4 is 40.0\n",
      "INFO:root:accuracy of top-5 is 40.0\n",
      "INFO:root:accuracy of top-6 is 40.0\n",
      "INFO:root:accuracy of top-7 is 40.0\n",
      "INFO:root:accuracy of top-8 is 40.0\n",
      "INFO:root:accuracy of top-9 is 40.0\n",
      "INFO:root:accuracy of top-10 is 40.0\n",
      "INFO:root:accuracy of top-11 is 40.0\n",
      "INFO:root:accuracy of top-12 is 40.0\n",
      "INFO:root:accuracy of top-13 is 40.0\n",
      "INFO:root:accuracy of top-14 is 40.0\n",
      "INFO:root:accuracy of top-15 is 40.0\n",
      "INFO:root:accuracy of top-16 is 40.0\n",
      "INFO:root:accuracy of top-17 is 40.0\n",
      "INFO:root:accuracy of top-18 is 40.0\n",
      "INFO:root:accuracy of top-19 is 40.0\n",
      "INFO:root:accuracy of top-20 is 40.0\n"
     ]
    },
    {
     "data": {
      "text/plain": [
       "{'accuracy of top-1': 40.0,\n",
       " 'accuracy of top-2': 40.0,\n",
       " 'accuracy of top-3': 40.0,\n",
       " 'accuracy of top-4': 40.0,\n",
       " 'accuracy of top-5': 40.0,\n",
       " 'accuracy of top-6': 40.0,\n",
       " 'accuracy of top-7': 40.0,\n",
       " 'accuracy of top-8': 40.0,\n",
       " 'accuracy of top-9': 40.0,\n",
       " 'accuracy of top-10': 40.0,\n",
       " 'accuracy of top-11': 40.0,\n",
       " 'accuracy of top-12': 40.0,\n",
       " 'accuracy of top-13': 40.0,\n",
       " 'accuracy of top-14': 40.0,\n",
       " 'accuracy of top-15': 40.0,\n",
       " 'accuracy of top-16': 40.0,\n",
       " 'accuracy of top-17': 40.0,\n",
       " 'accuracy of top-18': 40.0,\n",
       " 'accuracy of top-19': 40.0,\n",
       " 'accuracy of top-20': 40.0}"
      ]
     },
     "execution_count": 5,
     "metadata": {},
     "output_type": "execute_result"
    }
   ],
   "source": [
    "validate(checkpoint_path=model_path,\n",
    "         dataset_path=data_path,\n",
    "         dataset_name='junior_dataset',\n",
    "         action_space_file=action_set)"
   ]
  },
  {
   "cell_type": "markdown",
   "metadata": {
    "collapsed": false
   },
   "source": [
    "## Advanced Junior\n",
    "\n",
    "The second option is a more advanced junior agent, that has selected hyper-parameters. You can gather these\n",
    "hyperparameters by running a NNI or ```ray.tune``` experiment. The hyper-parameters need then to be supplied via a\n",
    "dictionary. Note that it is also possible to add a scaler, e.g., a ```MinMaxScaler``` to the Junior. We advise for this \\\n",
    "        option, given that neural networks require values around [-1,1].\n",
    "\n",
    "Note, for simplification we only load the best parameters into the Notebook."
   ]
  },
  {
   "cell_type": "code",
   "execution_count": 21,
   "metadata": {
    "collapsed": false
   },
   "outputs": [
    {
     "data": {
      "text/plain": [
       "{'activation': 'relu',\n",
       " 'batchsize': 256,\n",
       " 'dropout1': 0.19492379978847293,\n",
       " 'dropout2': 0.1259373123876904,\n",
       " 'initializer': 'O',\n",
       " 'layer1': 1414.960729971744,\n",
       " 'layer2': 1251.8000886860257,\n",
       " 'layer3': 1484.7748637079956,\n",
       " 'layer4': 231.6874808929891,\n",
       " 'learning_rate': 0.0003013467240068926,\n",
       " 'TRIAL_BUDGET': 11,\n",
       " 'epochs': 1}"
      ]
     },
     "execution_count": 21,
     "metadata": {},
     "output_type": "execute_result"
    }
   ],
   "source": [
    "with open(Path(example_path) / \"data\" / 'junior_best_params.json') as json_file:\n",
    "    best_params = json.load(json_file)\n",
    "\n",
    "best_params[\"epochs\"] = 1\n",
    "best_params"
   ]
  },
  {
   "cell_type": "code",
   "execution_count": 22,
   "metadata": {
    "collapsed": false
   },
   "outputs": [],
   "source": [
    "from curriculumagent.junior.junior_student import Junior\n",
    "from curriculumagent.junior.junior_student import load_dataset\n",
    "from sklearn.preprocessing import MinMaxScaler"
   ]
  },
  {
   "cell_type": "markdown",
   "metadata": {
    "collapsed": false
   },
   "source": [
    "Due to the fact that we also want to show the application of a scaler, we additionally show the whole pipeline of the   Junior agent. Therefore, we first fit the data with a MinMaxScaler:\n"
   ]
  },
  {
   "cell_type": "code",
   "execution_count": 23,
   "metadata": {
    "collapsed": false
   },
   "outputs": [],
   "source": [
    "s_train, a_train, s_validate, a_validate, _, _ = load_dataset(data_path, \"junior_dataset\")\n",
    "scaler = MinMaxScaler()\n",
    "s_tr_t = scaler.fit_transform(s_train)\n",
    "s_val_t = scaler.transform(s_validate)\n",
    "\n",
    "path1 = test_data_path / \"actionspace_nminus1.npy\"\n",
    "path2 = test_data_path / \"actionspace_tuples.npy\"\n",
    "\n",
    "action_set = [path1, path2]"
   ]
  },
  {
   "cell_type": "code",
   "execution_count": 24,
   "metadata": {
    "collapsed": false
   },
   "outputs": [],
   "source": [
    "# Pickle the scaler for later\n",
    "with open( Path(example_path) / \"data\" / 'scaler_junior.pkl', \"wb\") as fp:\n",
    "    pickle.dump(scaler, fp)"
   ]
  },
  {
   "cell_type": "code",
   "execution_count": 25,
   "metadata": {
    "collapsed": false
   },
   "outputs": [
    {
     "name": "stderr",
     "output_type": "stream",
     "text": [
      "INFO:root:<bound method Model.summary of <keras.engine.sequential.Sequential object at 0x0000023A8C94EB30>>\n"
     ]
    }
   ],
   "source": [
    "junior = Junior(config=best_params,\n",
    "                        # Optimally, you know the number of actions:\n",
    "                        action_space_file=action_set,\n",
    "                        seed=42)\n",
    "junior.model.compile()\n",
    "#junior.model.summary()"
   ]
  },
  {
   "cell_type": "code",
   "execution_count": 26,
   "metadata": {
    "collapsed": false
   },
   "outputs": [
    {
     "name": "stderr",
     "output_type": "stream",
     "text": [
      "WARNING:root:2.12.0\n",
      "WARNING:root:2.12.0\n",
      "C:\\Users\\ddegtyar\\Anaconda3\\envs\\currenv\\lib\\site-packages\\keras\\initializers\\initializers.py:120: UserWarning: The initializer Orthogonal is unseeded and being called multiple times, which will return identical values each time (even if the initializer is unseeded). Please update your code to provide a seed to the initializer, or avoid using the same initalizer instance more than once.\n",
      "  warnings.warn(\n"
     ]
    },
    {
     "ename": "ValueError",
     "evalue": "in user code:\n\n    File \"C:\\Users\\ddegtyar\\Anaconda3\\envs\\currenv\\lib\\site-packages\\keras\\engine\\training.py\", line 1284, in train_function  *\n        return step_function(self, iterator)\n    File \"C:\\Users\\ddegtyar\\Anaconda3\\envs\\currenv\\lib\\site-packages\\keras\\engine\\training.py\", line 1268, in step_function  **\n        outputs = model.distribute_strategy.run(run_step, args=(data,))\n    File \"C:\\Users\\ddegtyar\\Anaconda3\\envs\\currenv\\lib\\site-packages\\keras\\engine\\training.py\", line 1249, in run_step  **\n        outputs = model.train_step(data)\n    File \"C:\\Users\\ddegtyar\\Anaconda3\\envs\\currenv\\lib\\site-packages\\keras\\engine\\training.py\", line 1052, in train_step\n        self._validate_target_and_loss(y, loss)\n    File \"C:\\Users\\ddegtyar\\Anaconda3\\envs\\currenv\\lib\\site-packages\\keras\\engine\\training.py\", line 1016, in _validate_target_and_loss\n        raise ValueError(\n\n    ValueError: No loss found. You may have forgotten to provide a `loss` argument in the `compile()` method.\n",
     "output_type": "error",
     "traceback": [
      "\u001b[1;31m---------------------------------------------------------------------------\u001b[0m",
      "\u001b[1;31mValueError\u001b[0m                                Traceback (most recent call last)",
      "Cell \u001b[1;32mIn[26], line 1\u001b[0m\n\u001b[1;32m----> 1\u001b[0m history \u001b[38;5;241m=\u001b[39m \u001b[43mjunior\u001b[49m\u001b[38;5;241;43m.\u001b[39;49m\u001b[43mtrain\u001b[49m\u001b[43m(\u001b[49m\u001b[43mlog_dir\u001b[49m\u001b[38;5;241;43m=\u001b[39;49m\u001b[43mmodel_path\u001b[49m\u001b[43m \u001b[49m\u001b[38;5;241;43m/\u001b[39;49m\u001b[43m \u001b[49m\u001b[38;5;124;43m\"\u001b[39;49m\u001b[38;5;124;43mhyperparam\u001b[39;49m\u001b[38;5;124;43m\"\u001b[39;49m\u001b[43m,\u001b[49m\n\u001b[0;32m      2\u001b[0m \u001b[43m                       \u001b[49m\u001b[43mckpt_dir\u001b[49m\u001b[38;5;241;43m=\u001b[39;49m\u001b[43mmodel_path\u001b[49m\u001b[43m \u001b[49m\u001b[38;5;241;43m/\u001b[39;49m\u001b[43m \u001b[49m\u001b[38;5;124;43m\"\u001b[39;49m\u001b[38;5;124;43mhyperparam\u001b[39;49m\u001b[38;5;124;43m\"\u001b[39;49m\u001b[43m,\u001b[49m\n\u001b[0;32m      3\u001b[0m \u001b[43m                       \u001b[49m\u001b[43mpatience\u001b[49m\u001b[38;5;241;43m=\u001b[39;49m\u001b[38;5;241;43m5\u001b[39;49m\u001b[43m,\u001b[49m\n\u001b[0;32m      4\u001b[0m \u001b[43m                       \u001b[49m\u001b[43mx_train\u001b[49m\u001b[38;5;241;43m=\u001b[39;49m\u001b[43ms_tr_t\u001b[49m\u001b[43m,\u001b[49m\u001b[43m \u001b[49m\u001b[43my_train\u001b[49m\u001b[38;5;241;43m=\u001b[39;49m\u001b[43ma_train\u001b[49m\u001b[43m,\u001b[49m\n\u001b[0;32m      5\u001b[0m \u001b[43m                       \u001b[49m\u001b[43mx_validate\u001b[49m\u001b[38;5;241;43m=\u001b[39;49m\u001b[43ms_val_t\u001b[49m\u001b[43m,\u001b[49m\u001b[43m \u001b[49m\u001b[43my_validate\u001b[49m\u001b[38;5;241;43m=\u001b[39;49m\u001b[43ma_validate\u001b[49m\u001b[43m)\u001b[49m\n",
      "File \u001b[1;32m~\\PycharmProjects\\curriculumagent\\curriculumagent\\junior\\junior_student.py:307\u001b[0m, in \u001b[0;36mJunior.train\u001b[1;34m(self, x_train, y_train, x_validate, y_validate, log_dir, ckpt_dir, patience, epochs)\u001b[0m\n\u001b[0;32m    298\u001b[0m     early_stopping \u001b[38;5;241m=\u001b[39m EarlyStopping(\n\u001b[0;32m    299\u001b[0m         monitor\u001b[38;5;241m=\u001b[39m\u001b[38;5;124m\"\u001b[39m\u001b[38;5;124mval_loss\u001b[39m\u001b[38;5;124m\"\u001b[39m,\n\u001b[0;32m    300\u001b[0m         patience\u001b[38;5;241m=\u001b[39mpatience,\n\u001b[1;32m   (...)\u001b[0m\n\u001b[0;32m    303\u001b[0m         restore_best_weights\u001b[38;5;241m=\u001b[39m\u001b[38;5;28;01mTrue\u001b[39;00m,\n\u001b[0;32m    304\u001b[0m     )\n\u001b[0;32m    305\u001b[0m     callbacks \u001b[38;5;241m+\u001b[39m\u001b[38;5;241m=\u001b[39m [early_stopping]\n\u001b[1;32m--> 307\u001b[0m history \u001b[38;5;241m=\u001b[39m \u001b[38;5;28;43mself\u001b[39;49m\u001b[38;5;241;43m.\u001b[39;49m\u001b[43mmodel\u001b[49m\u001b[38;5;241;43m.\u001b[39;49m\u001b[43mfit\u001b[49m\u001b[43m(\u001b[49m\n\u001b[0;32m    308\u001b[0m \u001b[43m    \u001b[49m\u001b[43mx\u001b[49m\u001b[38;5;241;43m=\u001b[39;49m\u001b[43mx_train\u001b[49m\u001b[43m,\u001b[49m\n\u001b[0;32m    309\u001b[0m \u001b[43m    \u001b[49m\u001b[43my\u001b[49m\u001b[38;5;241;43m=\u001b[39;49m\u001b[43my_train\u001b[49m\u001b[43m,\u001b[49m\n\u001b[0;32m    310\u001b[0m \u001b[43m    \u001b[49m\u001b[43mepochs\u001b[49m\u001b[38;5;241;43m=\u001b[39;49m\u001b[43mepochs\u001b[49m\u001b[43m \u001b[49m\u001b[38;5;129;43;01mor\u001b[39;49;00m\u001b[43m \u001b[49m\u001b[38;5;28;43mself\u001b[39;49m\u001b[38;5;241;43m.\u001b[39;49m\u001b[43mepochs\u001b[49m\u001b[43m,\u001b[49m\n\u001b[0;32m    311\u001b[0m \u001b[43m    \u001b[49m\u001b[43mvalidation_data\u001b[49m\u001b[38;5;241;43m=\u001b[39;49m\u001b[43m(\u001b[49m\u001b[43mx_validate\u001b[49m\u001b[43m,\u001b[49m\u001b[43m \u001b[49m\u001b[43my_validate\u001b[49m\u001b[43m)\u001b[49m\u001b[43m,\u001b[49m\n\u001b[0;32m    312\u001b[0m \u001b[43m    \u001b[49m\u001b[43mbatch_size\u001b[49m\u001b[38;5;241;43m=\u001b[39;49m\u001b[38;5;28;43mself\u001b[39;49m\u001b[38;5;241;43m.\u001b[39;49m\u001b[43mbatch_size\u001b[49m\u001b[43m,\u001b[49m\n\u001b[0;32m    313\u001b[0m \u001b[43m    \u001b[49m\u001b[43mcallbacks\u001b[49m\u001b[38;5;241;43m=\u001b[39;49m\u001b[43mcallbacks\u001b[49m\u001b[43m,\u001b[49m\n\u001b[0;32m    314\u001b[0m \u001b[43m\u001b[49m\u001b[43m)\u001b[49m\n\u001b[0;32m    315\u001b[0m \u001b[38;5;28;01mreturn\u001b[39;00m history\n",
      "File \u001b[1;32m~\\Anaconda3\\envs\\currenv\\lib\\site-packages\\keras\\utils\\traceback_utils.py:70\u001b[0m, in \u001b[0;36mfilter_traceback.<locals>.error_handler\u001b[1;34m(*args, **kwargs)\u001b[0m\n\u001b[0;32m     67\u001b[0m     filtered_tb \u001b[38;5;241m=\u001b[39m _process_traceback_frames(e\u001b[38;5;241m.\u001b[39m__traceback__)\n\u001b[0;32m     68\u001b[0m     \u001b[38;5;66;03m# To get the full stack trace, call:\u001b[39;00m\n\u001b[0;32m     69\u001b[0m     \u001b[38;5;66;03m# `tf.debugging.disable_traceback_filtering()`\u001b[39;00m\n\u001b[1;32m---> 70\u001b[0m     \u001b[38;5;28;01mraise\u001b[39;00m e\u001b[38;5;241m.\u001b[39mwith_traceback(filtered_tb) \u001b[38;5;28;01mfrom\u001b[39;00m \u001b[38;5;28;01mNone\u001b[39;00m\n\u001b[0;32m     71\u001b[0m \u001b[38;5;28;01mfinally\u001b[39;00m:\n\u001b[0;32m     72\u001b[0m     \u001b[38;5;28;01mdel\u001b[39;00m filtered_tb\n",
      "File \u001b[1;32m~\\AppData\\Local\\Temp\\__autograph_generated_filekskp2zhj.py:15\u001b[0m, in \u001b[0;36mouter_factory.<locals>.inner_factory.<locals>.tf__train_function\u001b[1;34m(iterator)\u001b[0m\n\u001b[0;32m     13\u001b[0m \u001b[38;5;28;01mtry\u001b[39;00m:\n\u001b[0;32m     14\u001b[0m     do_return \u001b[38;5;241m=\u001b[39m \u001b[38;5;28;01mTrue\u001b[39;00m\n\u001b[1;32m---> 15\u001b[0m     retval_ \u001b[38;5;241m=\u001b[39m ag__\u001b[38;5;241m.\u001b[39mconverted_call(ag__\u001b[38;5;241m.\u001b[39mld(step_function), (ag__\u001b[38;5;241m.\u001b[39mld(\u001b[38;5;28mself\u001b[39m), ag__\u001b[38;5;241m.\u001b[39mld(iterator)), \u001b[38;5;28;01mNone\u001b[39;00m, fscope)\n\u001b[0;32m     16\u001b[0m \u001b[38;5;28;01mexcept\u001b[39;00m:\n\u001b[0;32m     17\u001b[0m     do_return \u001b[38;5;241m=\u001b[39m \u001b[38;5;28;01mFalse\u001b[39;00m\n",
      "\u001b[1;31mValueError\u001b[0m: in user code:\n\n    File \"C:\\Users\\ddegtyar\\Anaconda3\\envs\\currenv\\lib\\site-packages\\keras\\engine\\training.py\", line 1284, in train_function  *\n        return step_function(self, iterator)\n    File \"C:\\Users\\ddegtyar\\Anaconda3\\envs\\currenv\\lib\\site-packages\\keras\\engine\\training.py\", line 1268, in step_function  **\n        outputs = model.distribute_strategy.run(run_step, args=(data,))\n    File \"C:\\Users\\ddegtyar\\Anaconda3\\envs\\currenv\\lib\\site-packages\\keras\\engine\\training.py\", line 1249, in run_step  **\n        outputs = model.train_step(data)\n    File \"C:\\Users\\ddegtyar\\Anaconda3\\envs\\currenv\\lib\\site-packages\\keras\\engine\\training.py\", line 1052, in train_step\n        self._validate_target_and_loss(y, loss)\n    File \"C:\\Users\\ddegtyar\\Anaconda3\\envs\\currenv\\lib\\site-packages\\keras\\engine\\training.py\", line 1016, in _validate_target_and_loss\n        raise ValueError(\n\n    ValueError: No loss found. You may have forgotten to provide a `loss` argument in the `compile()` method.\n"
     ]
    }
   ],
   "source": [
    "history = junior.train(log_dir=model_path / \"hyperparam\",\n",
    "                       ckpt_dir=model_path / \"hyperparam\",\n",
    "                       patience=5,\n",
    "                       x_train=s_tr_t, y_train=a_train,\n",
    "                       x_validate=s_val_t, y_validate=a_validate)"
   ]
  },
  {
   "cell_type": "code",
   "execution_count": 27,
   "metadata": {
    "collapsed": false
   },
   "outputs": [
    {
     "name": "stderr",
     "output_type": "stream",
     "text": [
      "WARNING:absl:Found untraced functions such as _update_step_xla, re_lu_7_layer_call_fn, re_lu_7_layer_call_and_return_conditional_losses while saving (showing 3 of 3). These functions will not be directly callable after loading.\n"
     ]
    },
    {
     "name": "stdout",
     "output_type": "stream",
     "text": [
      "INFO:tensorflow:Assets written to: C:\\Users\\ddegtyar\\PycharmProjects\\curriculumagent\\jupyter_notebooks\\data\\junior_model\\hyperparam\\assets\n"
     ]
    },
    {
     "name": "stderr",
     "output_type": "stream",
     "text": [
      "INFO:tensorflow:Assets written to: C:\\Users\\ddegtyar\\PycharmProjects\\curriculumagent\\jupyter_notebooks\\data\\junior_model\\hyperparam\\assets\n"
     ]
    }
   ],
   "source": [
    "junior.model.save(model_path / \"hyperparam\")"
   ]
  },
  {
   "cell_type": "code",
   "execution_count": null,
   "metadata": {
    "collapsed": false
   },
   "outputs": [],
   "source": []
  }
 ],
 "metadata": {
  "kernelspec": {
   "display_name": "Python 3 (ipykernel)",
   "language": "python",
   "name": "python3"
  },
  "language_info": {
   "codemirror_mode": {
    "name": "ipython",
    "version": 3
   },
   "file_extension": ".py",
   "mimetype": "text/x-python",
   "name": "python",
   "nbconvert_exporter": "python",
   "pygments_lexer": "ipython3",
   "version": "3.9.19"
  }
 },
 "nbformat": 4,
 "nbformat_minor": 5
}
