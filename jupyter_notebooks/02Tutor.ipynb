{
 "cells": [
  {
   "cell_type": "markdown",
   "id": "fc66d1bb-0c5b-4bcb-901e-e323dcd5eddd",
   "metadata": {},
   "source": []
  },
  {
   "cell_type": "markdown",
   "metadata": {
    "collapsed": false
   },
   "source": [
    "# Example Script of the Tutor\n",
    "\n",
    "Based on the experience of the N-1 Teacher Notebook, one can now train the tutor agent"
   ]
  },
  {
   "cell_type": "code",
   "execution_count": 1,
   "metadata": {
    "collapsed": false
   },
   "outputs": [],
   "source": [
    "import os\n",
    "import logging\n",
    "from pathlib import Path\n",
    "import grid2op\n",
    "from lightsim2grid import LightSimBackend\n",
    "\n",
    "logging.basicConfig(level=logging.INFO)\n",
    "example_path = os.getcwd()"
   ]
  },
  {
   "cell_type": "markdown",
   "metadata": {
    "collapsed": false
   },
   "source": [
    "Again test, whether the environment can be initialized"
   ]
  },
  {
   "cell_type": "code",
   "execution_count": 2,
   "id": "b2582e94-8c43-4874-a6a7-e2b94c181c53",
   "metadata": {},
   "outputs": [
    {
     "name": "stderr",
     "output_type": "stream",
     "text": [
      "INFO:pandapower.convert_format:These dtypes could not be corrected: {'trafo': ['tap_min', 'tap_max']}\n",
      "c:\\Users\\thoma\\anaconda3\\envs\\MA1\\lib\\site-packages\\lightsim2grid\\gridmodel\\_aux_add_trafo.py:67: UserWarning: There were some Nan in the pp_net.trafo[\"tap_step_degree\"], they have been replaced by 0\n",
      "  warnings.warn(\"There were some Nan in the pp_net.trafo[\\\"tap_step_degree\\\"], they have been replaced by 0\")\n",
      "c:\\Users\\thoma\\anaconda3\\envs\\MA1\\lib\\site-packages\\lightsim2grid\\gridmodel\\_aux_add_slack.py:114: UserWarning: We found either some slack coefficient to be < 0. or they were all 0.We set them all to 1.0 to avoid such issues\n",
      "  warnings.warn(\"We found either some slack coefficient to be < 0. or they were all 0.\"\n",
      "c:\\Users\\thoma\\anaconda3\\envs\\MA1\\lib\\site-packages\\grid2op\\Backend\\backend.py:1848: RuntimeWarning: divide by zero encountered in divide\n",
      "  p_s[sh_conn] *= (self._sh_vnkv[sh_conn] / sh_v[sh_conn]) ** 2\n",
      "c:\\Users\\thoma\\anaconda3\\envs\\MA1\\lib\\site-packages\\grid2op\\Backend\\backend.py:1848: RuntimeWarning: invalid value encountered in multiply\n",
      "  p_s[sh_conn] *= (self._sh_vnkv[sh_conn] / sh_v[sh_conn]) ** 2\n",
      "c:\\Users\\thoma\\anaconda3\\envs\\MA1\\lib\\site-packages\\grid2op\\Backend\\backend.py:1849: RuntimeWarning: divide by zero encountered in divide\n",
      "  q_s[sh_conn] *= (self._sh_vnkv[sh_conn] / sh_v[sh_conn]) ** 2\n",
      "c:\\Users\\thoma\\anaconda3\\envs\\MA1\\lib\\site-packages\\grid2op\\Backend\\backend.py:1849: RuntimeWarning: invalid value encountered in multiply\n",
      "  q_s[sh_conn] *= (self._sh_vnkv[sh_conn] / sh_v[sh_conn]) ** 2\n"
     ]
    }
   ],
   "source": [
    "backend = LightSimBackend()\n",
    "env_path = test_data_path = Path(example_path)/ \"data\" / \"training_data_track1\"\n",
    "env = grid2op.make(env_path, backend=backend)\n",
    "env.set_id(1)\n",
    "env.reset()\n",
    "env.chronics_handler.get_name()\n",
    "obs = env.get_obs()"
   ]
  },
  {
   "cell_type": "markdown",
   "metadata": {
    "collapsed": false
   },
   "source": [
    "Now we run the general tutor to gather experience for the junior agent. Note, we set the ```num_chronics``` quite low to\n",
    "ensure a faster computation. However, for more experience you need to increase the ```num_chronics``` argument."
   ]
  },
  {
   "cell_type": "code",
   "execution_count": 3,
   "id": "4ef324ac-1d54-4f24-94e8-6a0bce40b5d4",
   "metadata": {},
   "outputs": [],
   "source": [
    "from curriculumagent.tutor.tutor import general_tutor"
   ]
  },
  {
   "cell_type": "code",
   "execution_count": 6,
   "metadata": {
    "collapsed": false
   },
   "outputs": [],
   "source": [
    "test_data_path = Path(example_path) / \"data\"\n",
    "path1 = test_data_path / \"actionspace_nminus1.npy\"\n",
    "path2 = test_data_path / \"actionspace_tuples.npy\"\n",
    "\n",
    "action_set = [path1, path2]"
   ]
  },
  {
   "cell_type": "code",
   "execution_count": 7,
   "id": "54b0ce33",
   "metadata": {},
   "outputs": [
    {
     "data": {
      "text/plain": [
       "[WindowsPath('c:/Users/thoma/MA/curriculumagent/jupyter_notebooks/data/actionspace_nminus1.npy'),\n",
       " WindowsPath('c:/Users/thoma/MA/curriculumagent/jupyter_notebooks/data/actionspace_tuples.npy')]"
      ]
     },
     "execution_count": 7,
     "metadata": {},
     "output_type": "execute_result"
    }
   ],
   "source": [
    "action_set"
   ]
  },
  {
   "cell_type": "code",
   "execution_count": 9,
   "id": "d331c8d5",
   "metadata": {},
   "outputs": [
    {
     "name": "stderr",
     "output_type": "stream",
     "text": [
      "INFO:pandapower.convert_format:These dtypes could not be corrected: {'trafo': ['tap_min', 'tap_max']}\n",
      "INFO:root:The following 1 tasks will be distributed to a pool of 16 workers:\n",
      "INFO:root:Time: 18.830291748046875s\n",
      "INFO:root:Tutor experience has been saved to c:\\Users\\thoma\\MA\\curriculumagent\\jupyter_notebooks\\data\\tutor_experience\\tutor_experience_06052024_152139.npy\n"
     ]
    }
   ],
   "source": [
    "\n",
    "\n",
    "general_tutor(env_name_path=env_path,\n",
    "              save_path=Path(example_path) / \"data\" /\"tutor_experience\",\n",
    "              action_paths=action_set,\n",
    "              num_chronics=1,\n",
    "              seed=42)"
   ]
  },
  {
   "cell_type": "markdown",
   "id": "285c604b-7de8-4342-aa4c-fea0b678200f",
   "metadata": {},
   "source": [
    "After gathering the experience of the tutor, we again collect the experience for the junior model"
   ]
  },
  {
   "cell_type": "code",
   "execution_count": 10,
   "id": "5a2e7a37-998c-47b6-873b-b5a3a3e055c5",
   "metadata": {},
   "outputs": [],
   "source": [
    "from curriculumagent.tutor.collect_tutor_experience import prepare_dataset"
   ]
  },
  {
   "cell_type": "code",
   "execution_count": 11,
   "metadata": {
    "collapsed": false
   },
   "outputs": [
    {
     "name": "stderr",
     "output_type": "stream",
     "text": [
      "INFO:root:Creating final dataset at directory c:\\Users\\thoma\\MA\\curriculumagent\\jupyter_notebooks\\data\\junior_experience\n",
      "INFO:root:Merging data...\n",
      "INFO:root:All Experience: (127, 1430)\n",
      "INFO:root:Unique Experience: (5, 1430)\n",
      "INFO:root:Unique Actions: 4\n",
      "INFO:root:Splitting data...\n",
      "INFO:root:TrainSet Size: 4\n",
      "INFO:root:ValidationSet Size: 0\n",
      "INFO:root:TestSet Size: 5\n",
      "INFO:root:Done\n"
     ]
    }
   ],
   "source": [
    "prepare_dataset(traindata_path=Path(example_path) / \"data\" / \"tutor_experience\",\n",
    "                target_path=Path(example_path) /\"data\" / \"junior_experience\",\n",
    "                dataset_name=\"junior_dataset\")"
   ]
  },
  {
   "cell_type": "code",
   "execution_count": null,
   "metadata": {
    "collapsed": false
   },
   "outputs": [],
   "source": []
  },
  {
   "cell_type": "code",
   "execution_count": null,
   "id": "2cc48727",
   "metadata": {},
   "outputs": [],
   "source": []
  },
  {
   "cell_type": "code",
   "execution_count": null,
   "id": "8ed87680",
   "metadata": {},
   "outputs": [],
   "source": []
  }
 ],
 "metadata": {
  "kernelspec": {
   "display_name": "Python 3 (ipykernel)",
   "language": "python",
   "name": "python3"
  },
  "language_info": {
   "codemirror_mode": {
    "name": "ipython",
    "version": 3
   },
   "file_extension": ".py",
   "mimetype": "text/x-python",
   "name": "python",
   "nbconvert_exporter": "python",
   "pygments_lexer": "ipython3",
   "version": "3.9.19"
  }
 },
 "nbformat": 4,
 "nbformat_minor": 5
}
